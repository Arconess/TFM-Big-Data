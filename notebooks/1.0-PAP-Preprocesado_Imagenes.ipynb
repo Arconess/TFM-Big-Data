{
 "cells": [
  {
   "cell_type": "markdown",
   "metadata": {},
   "source": [
    "# Sistema anti-copia para la detección del uso de herramientas de chat en tiempo real. \n",
    "# Pre-procesamiento\n",
    "\n",
    "## 1. Librerias"
   ]
  },
  {
   "cell_type": "code",
   "execution_count": 1,
   "metadata": {},
   "outputs": [],
   "source": [
    "import os\n",
    "import cv2\n",
    "import matplotlib.pyplot as plt"
   ]
  },
  {
   "cell_type": "code",
   "execution_count": 2,
   "metadata": {},
   "outputs": [],
   "source": [
    "raw_images_path = 'C:/Users/pablo/Documents/Master Big Data/0-Trabajo de Fin de Master/Repositorio Git/TFM-Big-Data/data/raw'\n",
    "procesed_images_path = 'C:/Users/pablo/Documents/Master Big Data/0-Trabajo de Fin de Master/Repositorio Git/TFM-Big-Data/data/processed'"
   ]
  },
  {
   "cell_type": "markdown",
   "metadata": {},
   "source": [
    "## 2. Lectura, redimensionamiento y renombramiento de imagenes"
   ]
  },
  {
   "cell_type": "code",
   "execution_count": 3,
   "metadata": {},
   "outputs": [],
   "source": [
    "def read_image(path, size):\n",
    "    image = cv2.imread(path,cv2.IMREAD_COLOR)\n",
    "    return cv2.resize(image, size, interpolation=cv2.INTER_CUBIC)"
   ]
  },
  {
   "cell_type": "code",
   "execution_count": 8,
   "metadata": {},
   "outputs": [],
   "source": [
    "#Vaciado de las carpetas de procesados\n",
    "for folderName in os.listdir(procesed_images_path):\n",
    "    for imageName in os.listdir(procesed_images_path+'/'+folderName):\n",
    "        os.remove(procesed_images_path+'/'+folderName+'/'+imageName)"
   ]
  },
  {
   "cell_type": "code",
   "execution_count": 9,
   "metadata": {},
   "outputs": [],
   "source": [
    "#Generación de imagenes redimensionadas y con el nombre adaptado\n",
    "\n",
    "for folderName in os.listdir(raw_images_path):\n",
    "    aux = 0\n",
    "    for imageName in os.listdir(raw_images_path+'/'+folderName):\n",
    "        image = read_image(raw_images_path+'/'+folderName+'/'+imageName, (198, 96))#(1920, 1080)\n",
    "        cv2.imwrite(procesed_images_path+'/'+folderName+'/image'+str(aux)+'.png', image)\n",
    "        aux+=1"
   ]
  },
  {
   "cell_type": "markdown",
   "metadata": {},
   "source": []
  }
 ],
 "metadata": {
  "kernelspec": {
   "display_name": "Python 3.9.12 ('tfm')",
   "language": "python",
   "name": "python3"
  },
  "language_info": {
   "codemirror_mode": {
    "name": "ipython",
    "version": 3
   },
   "file_extension": ".py",
   "mimetype": "text/x-python",
   "name": "python",
   "nbconvert_exporter": "python",
   "pygments_lexer": "ipython3",
   "version": "3.9.12"
  },
  "orig_nbformat": 4,
  "vscode": {
   "interpreter": {
    "hash": "bcf22fddca95e671a95efd433aa767177343c0da8394bd8a18d50e17360a2f8a"
   }
  }
 },
 "nbformat": 4,
 "nbformat_minor": 2
}
